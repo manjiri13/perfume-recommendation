{
 "cells": [
  {
   "cell_type": "code",
   "execution_count": 93,
   "metadata": {},
   "outputs": [
    {
     "name": "stdout",
     "output_type": "stream",
     "text": [
      "<class 'pandas.core.frame.DataFrame'>\n",
      "RangeIndex: 2191 entries, 0 to 2190\n",
      "Data columns (total 5 columns):\n",
      " #   Column       Non-Null Count  Dtype \n",
      "---  ------       --------------  ----- \n",
      " 0   Name         2191 non-null   object\n",
      " 1   Brand        2191 non-null   object\n",
      " 2   Description  2191 non-null   object\n",
      " 3   Notes        2111 non-null   object\n",
      " 4   Image URL    2191 non-null   object\n",
      "dtypes: object(5)\n",
      "memory usage: 85.7+ KB\n"
     ]
    },
    {
     "data": {
      "text/plain": "80"
     },
     "execution_count": 93,
     "metadata": {},
     "output_type": "execute_result"
    }
   ],
   "source": [
    "import pandas as pd\n",
    "\n",
    "df=pd.read_csv(\"final_perfume_data.csv\")\n",
    "df.info()\n",
    "df['Notes'].isnull().sum()"
   ]
  },
  {
   "cell_type": "code",
   "execution_count": 94,
   "metadata": {},
   "outputs": [],
   "source": [
    "df['tags'] = df['Description']+df['Notes']"
   ]
  },
  {
   "cell_type": "code",
   "execution_count": 95,
   "metadata": {},
   "outputs": [],
   "source": [
    "from sklearn.feature_extraction.text import CountVectorizer\n",
    "import nltk\n",
    "from nltk.stem import PorterStemmer\n",
    "\n",
    "\n",
    "import re\n",
    "tags=[]\n",
    "for text in df['tags']:\n",
    "    stemmer = PorterStemmer()\n",
    "                       \n",
    "    text = re.sub(\"[^a-zA-Z]\", \" \", str(text))\n",
    "    text = text.lower()\n",
    "    text = text.split()\n",
    "    text = [stemmer.stem(word) for word in text]\n",
    "    text = \" \".join(text)\n",
    "    tags.append(text)\n",
    "df['tag']=tags\n",
    "# df.head()\n",
    "\n",
    "cv = CountVectorizer(max_features=1000,stop_words='english')\n",
    "vector = cv.fit_transform(df['tag']).toarray()"
   ]
  },
  {
   "cell_type": "code",
   "execution_count": 96,
   "metadata": {},
   "outputs": [
    {
     "data": {
      "text/plain": "(2191, 1000)"
     },
     "execution_count": 96,
     "metadata": {},
     "output_type": "execute_result"
    }
   ],
   "source": [
    "vector.shape"
   ]
  },
  {
   "cell_type": "code",
   "execution_count": 97,
   "metadata": {},
   "outputs": [
    {
     "data": {
      "text/plain": "array([[1.        , 0.05066946, 0.05441072, ..., 0.21052632, 0.34269287,\n        0.18141592],\n       [0.05066946, 1.        , 0.26191136, ..., 0.12667365, 0.02827862,\n        0.0952651 ],\n       [0.05441072, 0.26191136, 1.        , ..., 0.17230061, 0.09109984,\n        0.13639887],\n       ...,\n       [0.21052632, 0.12667365, 0.17230061, ..., 1.        , 0.16155521,\n        0.16080048],\n       [0.34269287, 0.02827862, 0.09109984, ..., 0.16155521, 1.        ,\n        0.13806572],\n       [0.18141592, 0.0952651 , 0.13639887, ..., 0.16080048, 0.13806572,\n        1.        ]])"
     },
     "execution_count": 97,
     "metadata": {},
     "output_type": "execute_result"
    }
   ],
   "source": [
    "from sklearn.metrics.pairwise import cosine_similarity\n",
    "\n",
    "similarity = cosine_similarity(vector)\n",
    "\n",
    "similarity\n"
   ]
  },
  {
   "cell_type": "code",
   "execution_count": 68,
   "metadata": {},
   "outputs": [
    {
     "data": {
      "text/plain": "1"
     },
     "execution_count": 68,
     "metadata": {},
     "output_type": "execute_result"
    }
   ],
   "source": [
    "df[df['Name'] == \"Sola Parfum\"].index[0]"
   ]
  },
  {
   "cell_type": "code",
   "execution_count": null,
   "metadata": {},
   "outputs": [],
   "source": [
    "# Sola Parfum\n",
    "# \tDi Ser\t\n",
    "#      A tribute to the expanse of space extending from the sky to the flower and fruit laden earth below, Sola, \n",
    "#      the newest offering from DI SER and perfumer Yasuyuki Shinohara, \n",
    "#      showcases the natural flora of Hokkaido, Japan with locally sourced and sustainably harvested ingredients \n",
    "#      from DI SERs own gardens. Starting with aromatic notes of freshly harvested Hokkaido lavender, lemongrass and \n",
    "#      yuzu, the uplifting scent moves to a floral middle of Japanese rose, magnolia, geranium and jasmine before settling \n",
    "#      on a spiritual bed of frankincense and myrrh. The spiritual and meditative scent evokes an imagery of a peaceful universe \n",
    "#      in complete harmony with the bounties of nature and of peace and contentment with its generous offerings.\t \n",
    "     \n",
    "#      L\n",
    "#      avender, \n",
    "#      Yuzu, Lemongrass, Magnolia, Geranium, Jasmine, Frankincense, Myrrh\n"
   ]
  },
  {
   "cell_type": "code",
   "execution_count": 84,
   "metadata": {},
   "outputs": [
    {
     "name": "stdout",
     "output_type": "stream",
     "text": [
      "Camellia Eau de Parfum\n",
      "Aroma M\n",
      "The square-cornered rectangular bottle recalls the no-frills Modernist flacon favored by Coco Chanel (whose signature flower was the camellia along with the Geisha's). The oil-perfume bottle, its neck wrapped in gold metallic thread, evokes scent containers from the heyday of perfumery in the early 20th century. The label, framed in Yuzen paper, is an Aroma M signature touch.\n",
      " Jasmine, gardenia, neroli, geranium, camellia, rose, and frankincense.\n",
      "Kagiroi Parfum\n",
      "Di Ser\n",
      " An aromatic ode to the ancient beauty of Japan, Kagiroi represents the changes in the shade of the dawn sky over the mountains of Hokkaido, Japan. As the dawn sky transitions through shades of purple, yellow, orange and red, this scent that showcases many ingredients used for the first time in perfumery transitions from an aromatic slightly spicy top to an earthy and woody base, representing the ebb and flow in the stages of life. The perfume opens with notes of Japanese herbs and citruses, moves to a slightly floral spicy middle and settles into a deep woody base accentuated by the use of the Hinoki cedar that dot the mountain landscapes. A deeply personal and spiritual scent, Kagiroi is a scent of shifting aromatic complexities representing transitions in the journey of life.Parfum Edition: We are honored and delighted to offer the rare and precious Parfum edition of Kagiroi, which adds to the composition a precious specimen of Japanese agarwood, which adds rich, spiritual dimensionality and a truly impressive and long-lasting drydown to this already complex and wonderful scent.\n",
      " Green yuzu, green shikuwasa, sansho seed, coriander, ylang-ylang, shiso, rosewood, vetiver, hinoki, cypriol, patchouli, agarwood\n",
      "Eau de Yuzu Eau de Toilette\n",
      "PARFUMS DE NICOLAI\n",
      " An authentic Japanese garden glows with the harmony of natural beauty and expert craftsmanship. It is an all-too-rare demonstration of how human precision and effort can be used to augment nature, rather than replace it, and as a result it achieves a perfection that transcends the division between the manmade and the wild. Eau de Yuzu captures the purity of the morning sun illuminating a sublimely sculpted garden of native Japanese flora, with a vibrantly juicy citrus chord at the center. This is yuzu in all its delectable fullness, with a supplemental note of bright yellow grapefruit only deepening the tart, bright, gently sweet hesperidic character. Aromatic notes of juniper and lemon leaf further increase the naturalistic freshness, while the clean, smooth warmth of gaiac wood evokes the presence of minimal, immaculate woodwork giving form to the garden's edges. And ultimately, a woodsy, earthy patchouli ties everything together, reminding us that the larger world around the garden is still ruled by nature first, and humankind second. Fresh, bright, meditative, and deeply plasurable, Eau de Yuzu is a masterful citrus scent.\n",
      " Yuzu, lemon leaf, juniper, grapefruit, gaiac, patchouli\n",
      "Magnolia Grandiflora - Michel Eau de Parfum\n",
      "Grandiflora\n",
      "While Sandrine's magnolia is fresh and shimmering, Michel's interpretation expresses the flower in its full bloom, with its lush waxy petals. As spectacular as a blossom-heavy magnolia tree, with a dark woody undercurrent boosting the heady floral bouquet. An exceptional and truly special offering.\n",
      " Lemon, bergamot, grapefruit, jasmine, ylang-ylang, rose, magnolia, vetiver, patchouli and musk\n",
      "Keman Parfum\n",
      "Di Ser\n",
      "One bottle per customer What We Think Keman opens with notes of Japanese rose, geranium, jasmine, and blue tansy. At the heart of the perfume is the fresh aromatic energy of yuzu, cherry blossom, and the unmistakable snap of shiso, or Japanese mint. The scent settles on a base of that exquisite agarwood- dry, smooth, gently smoky, and quietly potent- and woodsy, aromatic cypress. Reverent, uplifting, and serene.\n",
      " Rose, geranium, jasmine, blue tansy, yuzu, cherry blossom, shiso, agarwood, cypress\n"
     ]
    }
   ],
   "source": [
    "def recommend(perfume):\n",
    "    index = df[df['Name'] == perfume].index[0]\n",
    "    distances = sorted(list(enumerate(similarity[index])),reverse=True,key = lambda x: x[1])\n",
    "    for i in distances[1:6]:\n",
    "        print(df.iloc[i[0]].Name)\n",
    "        print(df.iloc[i[0]].Brand)\n",
    "        print(df.iloc[i[0]].Description)\n",
    "        print(df.iloc[i[0]].Notes)\n",
    "recommend(\"Sola Parfum\")"
   ]
  },
  {
   "cell_type": "code",
   "execution_count": 91,
   "metadata": {},
   "outputs": [
    {
     "data": {
      "text/html": "<div>\n<style scoped>\n    .dataframe tbody tr th:only-of-type {\n        vertical-align: middle;\n    }\n\n    .dataframe tbody tr th {\n        vertical-align: top;\n    }\n\n    .dataframe thead th {\n        text-align: right;\n    }\n</style>\n<table border=\"1\" class=\"dataframe\">\n  <thead>\n    <tr style=\"text-align: right;\">\n      <th></th>\n      <th>Name</th>\n      <th>Brand</th>\n      <th>Description</th>\n      <th>Notes</th>\n      <th>img</th>\n      <th>tags</th>\n      <th>tag</th>\n      <th>Price</th>\n      <th>price</th>\n    </tr>\n  </thead>\n  <tbody>\n    <tr>\n      <th>0</th>\n      <td>Tihota Eau de Parfum</td>\n      <td>Indult</td>\n      <td>Rapa Nui for sugar, Tihota is, quite simply, ...</td>\n      <td>Vanilla bean, musks</td>\n      <td>https://static.luckyscent.com/images/products/...</td>\n      <td>Rapa Nui for sugar, Tihota is, quite simply, ...</td>\n      <td>rapa nui for sugar tihota is quit simpli the o...</td>\n      <td>9117</td>\n      <td>5198</td>\n    </tr>\n    <tr>\n      <th>1</th>\n      <td>Sola Parfum</td>\n      <td>Di Ser</td>\n      <td>A tribute to the expanse of space extending f...</td>\n      <td>Lavender, Yuzu, Lemongrass, Magnolia, Geraniu...</td>\n      <td>https://static.luckyscent.com/images/products/...</td>\n      <td>A tribute to the expanse of space extending f...</td>\n      <td>a tribut to the expans of space extend from th...</td>\n      <td>6675</td>\n      <td>5590</td>\n    </tr>\n    <tr>\n      <th>2</th>\n      <td>Kagiroi Parfum</td>\n      <td>Di Ser</td>\n      <td>An aromatic ode to the ancient beauty of Japa...</td>\n      <td>Green yuzu, green shikuwasa, sansho seed, cor...</td>\n      <td>https://static.luckyscent.com/images/products/...</td>\n      <td>An aromatic ode to the ancient beauty of Japa...</td>\n      <td>an aromat ode to the ancient beauti of japan k...</td>\n      <td>7172</td>\n      <td>9972</td>\n    </tr>\n    <tr>\n      <th>3</th>\n      <td>Velvet Fantasy Eau de Parfum</td>\n      <td>Montale</td>\n      <td>Velvet Fantasy is a solar fragrance where cit...</td>\n      <td>tangerine,  pink pepper,  black coffee,  leat...</td>\n      <td>https://static.luckyscent.com/images/products/...</td>\n      <td>Velvet Fantasy is a solar fragrance where cit...</td>\n      <td>velvet fantasi is a solar fragranc where citru...</td>\n      <td>5929</td>\n      <td>3491</td>\n    </tr>\n    <tr>\n      <th>4</th>\n      <td>A Blvd. Called Sunset Eau de Parfum</td>\n      <td>A Lab on Fire</td>\n      <td>There's no way A Lab On Fire could relocate t...</td>\n      <td>Bergamot, almond, violet, jasmine, leather, s...</td>\n      <td>https://static.luckyscent.com/images/products/...</td>\n      <td>There's no way A Lab On Fire could relocate t...</td>\n      <td>there s no way a lab on fire could reloc to lo...</td>\n      <td>1631</td>\n      <td>6649</td>\n    </tr>\n  </tbody>\n</table>\n</div>",
      "text/plain": "                                  Name          Brand  \\\n0                 Tihota Eau de Parfum         Indult   \n1                          Sola Parfum         Di Ser   \n2                       Kagiroi Parfum         Di Ser   \n3         Velvet Fantasy Eau de Parfum        Montale   \n4  A Blvd. Called Sunset Eau de Parfum  A Lab on Fire   \n\n                                         Description  \\\n0   Rapa Nui for sugar, Tihota is, quite simply, ...   \n1   A tribute to the expanse of space extending f...   \n2   An aromatic ode to the ancient beauty of Japa...   \n3   Velvet Fantasy is a solar fragrance where cit...   \n4   There's no way A Lab On Fire could relocate t...   \n\n                                               Notes  \\\n0                                Vanilla bean, musks   \n1   Lavender, Yuzu, Lemongrass, Magnolia, Geraniu...   \n2   Green yuzu, green shikuwasa, sansho seed, cor...   \n3   tangerine,  pink pepper,  black coffee,  leat...   \n4   Bergamot, almond, violet, jasmine, leather, s...   \n\n                                                 img  \\\n0  https://static.luckyscent.com/images/products/...   \n1  https://static.luckyscent.com/images/products/...   \n2  https://static.luckyscent.com/images/products/...   \n3  https://static.luckyscent.com/images/products/...   \n4  https://static.luckyscent.com/images/products/...   \n\n                                                tags  \\\n0   Rapa Nui for sugar, Tihota is, quite simply, ...   \n1   A tribute to the expanse of space extending f...   \n2   An aromatic ode to the ancient beauty of Japa...   \n3   Velvet Fantasy is a solar fragrance where cit...   \n4   There's no way A Lab On Fire could relocate t...   \n\n                                                 tag  Price  price  \n0  rapa nui for sugar tihota is quit simpli the o...   9117   5198  \n1  a tribut to the expans of space extend from th...   6675   5590  \n2  an aromat ode to the ancient beauti of japan k...   7172   9972  \n3  velvet fantasi is a solar fragranc where citru...   5929   3491  \n4  there s no way a lab on fire could reloc to lo...   1631   6649  "
     },
     "execution_count": 91,
     "metadata": {},
     "output_type": "execute_result"
    }
   ],
   "source": [
    "import random\n",
    "randomlist = []\n",
    "for i in range(0,2191):\n",
    "    n = random.randint(1000,9999)\n",
    "    randomlist.append(n)\n",
    "# print(randomlist)\n",
    "df[\"price\"]=randomlist\n",
    "df.rename(columns = {'Image URL':'img'}, inplace = True)\n",
    "df.head()"
   ]
  },
  {
   "cell_type": "code",
   "execution_count": 98,
   "metadata": {},
   "outputs": [],
   "source": [
    "import pickle\n",
    "\n",
    "pickle.dump(similarity,open('similarity.pkl','wb'))"
   ]
  },
  {
   "cell_type": "code",
   "execution_count": 92,
   "metadata": {},
   "outputs": [],
   "source": [
    "pickle.dump(df,open('perfume-_list.pkl','wb'))"
   ]
  },
  {
   "cell_type": "code",
   "execution_count": 99,
   "metadata": {},
   "outputs": [
    {
     "ename": "AttributeError",
     "evalue": "'numpy.ndarray' object has no attribute 'save'",
     "output_type": "error",
     "traceback": [
      "\u001b[0;31m---------------------------------------------------------------------------\u001b[0m",
      "\u001b[0;31mAttributeError\u001b[0m                            Traceback (most recent call last)",
      "\u001b[0;32m<ipython-input-99-f1853a69897d>\u001b[0m in \u001b[0;36m<module>\u001b[0;34m\u001b[0m\n\u001b[0;32m----> 1\u001b[0;31m \u001b[0msimilarity\u001b[0m\u001b[0;34m.\u001b[0m\u001b[0msave\u001b[0m\u001b[0;34m(\u001b[0m\u001b[0;34m'similarity.h5'\u001b[0m\u001b[0;34m)\u001b[0m\u001b[0;34m\u001b[0m\u001b[0;34m\u001b[0m\u001b[0m\n\u001b[0m",
      "\u001b[0;31mAttributeError\u001b[0m: 'numpy.ndarray' object has no attribute 'save'"
     ]
    }
   ],
   "source": [
    "similarity.save('similarity.h5')"
   ]
  },
  {
   "cell_type": "code",
   "execution_count": 100,
   "metadata": {},
   "outputs": [],
   "source": [
    "import h5py\n",
    "with h5py.File('similarity.h5', 'w') as hf:\n",
    "    hf.create_dataset(\"data\",  data=similarity)"
   ]
  },
  {
   "cell_type": "code",
   "execution_count": null,
   "metadata": {},
   "outputs": [],
   "source": []
  }
 ],
 "metadata": {
  "kernelspec": {
   "display_name": "Python 3.8.5 64-bit ('coding': venv)",
   "name": "python385jvsc74a57bd07c9d046292b074838575c2d54fe2eea6e0cfeae31821128a00f141386c37b71c"
  },
  "language_info": {
   "codemirror_mode": {
    "name": "ipython",
    "version": 3
   },
   "file_extension": ".py",
   "mimetype": "text/x-python",
   "name": "python",
   "nbconvert_exporter": "python",
   "pygments_lexer": "ipython3",
   "version": "3.8.5"
  },
  "orig_nbformat": 2
 },
 "nbformat": 4,
 "nbformat_minor": 2
}